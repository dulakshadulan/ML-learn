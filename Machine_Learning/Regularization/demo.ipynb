{
 "cells": [
  {
   "cell_type": "code",
   "execution_count": 4,
   "metadata": {},
   "outputs": [
    {
     "name": "stdout",
     "output_type": "stream",
     "text": [
      "Optimal lambda: 0.09770099572992257\n",
      "Test MSE: 0.007625739346510332\n"
     ]
    }
   ],
   "source": [
    "import numpy as np\n",
    "from sklearn.model_selection import train_test_split\n",
    "from sklearn.metrics import mean_squared_error\n",
    "\n",
    "# Simulated data\n",
    "np.random.seed(42)\n",
    "X = np.random.rand(100, 5)  # 100 samples, 5 features\n",
    "y = X @ np.array([1.5, -2.0, 1.0, 0.5, -1.0]) + np.random.normal(0, 0.1, 100)  # Linear relationship with noise\n",
    "\n",
    "# Split the data\n",
    "X_train, X_temp, y_train, y_temp = train_test_split(X, y, test_size=0.4, random_state=42)\n",
    "X_validation, X_test, y_validation, y_test = train_test_split(X_temp, y_temp, test_size=0.5, random_state=42)\n",
    "\n",
    "# Range of lambda (regularization parameter) values\n",
    "lambdas = np.logspace(-4, 4, 100)\n",
    "validation_mse = []\n",
    "\n",
    "# Ridge regression analytical solution\n",
    "def ridge_regression(X, y, lam):\n",
    "    n_features = X.shape[1]\n",
    "    I = np.eye(n_features)\n",
    "    return np.linalg.inv(X.T @ X + lam * I) @ X.T @ y\n",
    "\n",
    "# Iterate over lambda values\n",
    "for lam in lambdas:\n",
    "    beta = ridge_regression(X_train, y_train, lam)  # Compute coefficients\n",
    "    y_val_pred = X_validation @ beta  # Predict on validation set\n",
    "    mse = mean_squared_error(y_validation, y_val_pred)  # Compute validation MSE\n",
    "    validation_mse.append(mse)\n",
    "\n",
    "# Find optimal lambda\n",
    "optimal_lambda = lambdas[np.argmin(validation_mse)]\n",
    "print(f\"Optimal lambda: {optimal_lambda}\")\n",
    "\n",
    "# Refit the model with training + validation data\n",
    "X_combined = np.vstack((X_train, X_validation))\n",
    "y_combined = np.hstack((y_train, y_validation))\n",
    "final_beta = ridge_regression(X_combined, y_combined, optimal_lambda)\n",
    "\n",
    "# Evaluate on the test set\n",
    "y_test_pred = X_test @ final_beta\n",
    "test_mse = mean_squared_error(y_test, y_test_pred)\n",
    "print(f\"Test MSE: {test_mse}\")\n"
   ]
  },
  {
   "cell_type": "code",
   "execution_count": 8,
   "metadata": {},
   "outputs": [
    {
     "name": "stdout",
     "output_type": "stream",
     "text": [
      "(100, 5)\n"
     ]
    }
   ],
   "source": [
    "print(X.shape)"
   ]
  },
  {
   "cell_type": "code",
   "execution_count": null,
   "metadata": {},
   "outputs": [],
   "source": []
  }
 ],
 "metadata": {
  "kernelspec": {
   "display_name": "dul01",
   "language": "python",
   "name": "python3"
  },
  "language_info": {
   "codemirror_mode": {
    "name": "ipython",
    "version": 3
   },
   "file_extension": ".py",
   "mimetype": "text/x-python",
   "name": "python",
   "nbconvert_exporter": "python",
   "pygments_lexer": "ipython3",
   "version": "3.9.18"
  }
 },
 "nbformat": 4,
 "nbformat_minor": 2
}
