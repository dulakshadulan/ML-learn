{
 "cells": [
  {
   "cell_type": "code",
   "execution_count": 82,
   "metadata": {},
   "outputs": [],
   "source": [
    "import numpy as np  \n",
    "\n",
    "def perceptron_through_origin(X, y):\n",
    "    \"\"\"\n",
    "    Implements the perceptron algorithm for data through the origin.\n",
    "    \n",
    "    Parameters:\n",
    "    X: numpy array of shape (n_samples, n_features) - Input data\n",
    "    y: numpy array of shape (n_samples,) - Labels (+1 or -1)\n",
    "    \n",
    "    Returns:\n",
    "    theta: numpy array - Final weight vector\n",
    "    mistakes: int - Number of mistakes before convergence\n",
    "    \"\"\"\n",
    "    theta = np.zeros(X.shape[1])  # Initialize weight vector to zero\n",
    "    mistakes = 0\n",
    "    converged = False\n",
    "\n",
    "    while not converged:\n",
    "        converged = True  # Assume convergence unless a mistake is made\n",
    "        for i in range(len(y)):\n",
    "            if y[i] * np.dot(theta, X[i]) <= 0:  # Check for misclassification\n",
    "                theta += y[i] * X[i]  # Update weights\n",
    "                mistakes += 1\n",
    "                converged = False  # Not yet converged\n",
    "    \n",
    "    return theta, mistakes\n",
    "\n",
    "\n",
    "\n"
   ]
  },
  {
   "cell_type": "code",
   "execution_count": 83,
   "metadata": {},
   "outputs": [],
   "source": [
    "X = np.array([[0.2,0.2,0.8,0.8],\n",
    "              [0.0002,0.0002,0.0008,0.0008],\n",
    "              [1,1,1,1]])\n",
    "y = np.array([-1,-1,1,1])"
   ]
  },
  {
   "cell_type": "code",
   "execution_count": 84,
   "metadata": {},
   "outputs": [
    {
     "ename": "IndexError",
     "evalue": "too many indices for array: array is 1-dimensional, but 2 were indexed",
     "output_type": "error",
     "traceback": [
      "\u001b[1;31m---------------------------------------------------------------------------\u001b[0m",
      "\u001b[1;31mIndexError\u001b[0m                                Traceback (most recent call last)",
      "Cell \u001b[1;32mIn[84], line 26\u001b[0m\n\u001b[0;32m     22\u001b[0m             \u001b[38;5;28;01mbreak\u001b[39;00m\n\u001b[0;32m     24\u001b[0m     \u001b[38;5;28;01mreturn\u001b[39;00m mistakes\n\u001b[1;32m---> 26\u001b[0m mistakes \u001b[38;5;241m=\u001b[39m \u001b[43mperceptron\u001b[49m\u001b[43m(\u001b[49m\u001b[43mX\u001b[49m\u001b[43m,\u001b[49m\u001b[43m \u001b[49m\u001b[43my\u001b[49m\u001b[43m)\u001b[49m    \n",
      "Cell \u001b[1;32mIn[51], line 13\u001b[0m, in \u001b[0;36mperceptron\u001b[1;34m(data, labels, params, hook)\u001b[0m\n\u001b[0;32m     11\u001b[0m count \u001b[38;5;241m+\u001b[39m\u001b[38;5;241m=\u001b[39m \u001b[38;5;241m1\u001b[39m  \n\u001b[0;32m     12\u001b[0m \u001b[38;5;28;01mfor\u001b[39;00m i \u001b[38;5;129;01min\u001b[39;00m \u001b[38;5;28mrange\u001b[39m(n):\n\u001b[1;32m---> 13\u001b[0m   y \u001b[38;5;241m=\u001b[39m \u001b[43mlabels\u001b[49m\u001b[43m[\u001b[49m\u001b[38;5;241;43m0\u001b[39;49m\u001b[43m,\u001b[49m\u001b[43mi\u001b[49m\u001b[43m]\u001b[49m\n\u001b[0;32m     14\u001b[0m   x \u001b[38;5;241m=\u001b[39m data[:,i]\n\u001b[0;32m     16\u001b[0m   a \u001b[38;5;241m=\u001b[39m np\u001b[38;5;241m.\u001b[39mdot(x,theta)\u001b[38;5;241m+\u001b[39mtheta_0\n",
      "\u001b[1;31mIndexError\u001b[0m: too many indices for array: array is 1-dimensional, but 2 were indexed"
     ]
    }
   ],
   "source": [
    "X = np.array([[0.2,0.2,0.8,0.8],\n",
    "              [0.0002,0.0002,0.0008,0.0008],\n",
    "              [1,1,1,1]])\n",
    "y = np.array([-1,-1,1,1])\n",
    "\n",
    "def perceptron_1(X, y, max_iterations=1000):\n",
    "    weights = np.zeros(X.shape[1])\n",
    "    mistakes = 0\n",
    "\n",
    "    for _ in range(max_iterations):\n",
    "        global_mistakes = 0\n",
    "        for i in range(len(y)):\n",
    "            # Calculate the prediction\n",
    "            prediction = np.sign(np.dot(X[i], weights))\n",
    "            # Update weights if prediction is wrong\n",
    "            if prediction != y[i]:\n",
    "                weights += y[i] * X[i]\n",
    "                global_mistakes += 1\n",
    "        mistakes += global_mistakes\n",
    "        # Stop if no mistakes are made\n",
    "        if global_mistakes == 0:\n",
    "            break\n",
    "\n",
    "    return mistakes\n",
    "\n",
    "mistakes = perceptron(X, y)    "
   ]
  },
  {
   "cell_type": "code",
   "execution_count": null,
   "metadata": {},
   "outputs": [
    {
     "data": {
      "text/plain": [
       "(array([[ 2.8e+00],\n",
       "        [ 2.8e-03],\n",
       "        [-1.0e+00]]),\n",
       " array([-1.]),\n",
       " 100)"
      ]
     },
     "execution_count": 49,
     "metadata": {},
     "output_type": "execute_result"
    }
   ],
   "source": [
    "mistakes"
   ]
  },
  {
   "cell_type": "code",
   "execution_count": null,
   "metadata": {},
   "outputs": [
    {
     "data": {
      "text/plain": [
       "(7, array([ 1.6e+00,  1.6e-03, -1.0e+00]))"
      ]
     },
     "execution_count": 58,
     "metadata": {},
     "output_type": "execute_result"
    }
   ],
   "source": [
    "import numpy as np\n",
    "\n",
    "# Data\n",
    "# X = np.array([[0.2, 0.2, 0.8, 0.8],\n",
    "#               [0.0002, 0.0002, 0.0008, 0.0008],\n",
    "#               [1, 1, 1, 1]])\n",
    "# y = np.array([-1, -1, 1, 1])\n",
    "\n",
    "X = np.array([[0.2,0.2,0.8,0.8],\n",
    "              [0.0002,0.0002,0.0008,0.0008],\n",
    "              [1,1,1,1]])\n",
    "y = np.array([-1,-1,1,1])\n",
    "\n",
    "# Perceptron algorithm\n",
    "def perceptron_1(X, y, max_iterations=1000):\n",
    "    weights = np.zeros(X.shape[0])  # Adjust to match the number of features\n",
    "    mistakes = 0\n",
    "\n",
    "    for _ in range(max_iterations):\n",
    "        global_mistakes = 0\n",
    "        for i in range(len(y)):\n",
    "            # Calculate the prediction\n",
    "            prediction = np.sign(np.dot(X[:, i], weights))  # Update the dot product computation\n",
    "            # Update weights if prediction is wrong\n",
    "            if prediction != y[i]:\n",
    "                weights += y[i] * X[:, i]\n",
    "                global_mistakes += 1\n",
    "        mistakes += global_mistakes\n",
    "        # Stop if no mistakes are made\n",
    "        if global_mistakes == 0:\n",
    "            break\n",
    "\n",
    "    return (mistakes,weights)\n",
    "\n",
    "# Run the Perceptron\n",
    "mistakes = perceptron_1(X, y)\n",
    "mistakes\n"
   ]
  },
  {
   "cell_type": "code",
   "execution_count": null,
   "metadata": {},
   "outputs": [
    {
     "data": {
      "text/plain": [
       "(29, array([-2.,  7.]))"
      ]
     },
     "execution_count": 65,
     "metadata": {},
     "output_type": "execute_result"
    }
   ],
   "source": [
    "def perceptron_2(X, y, max_iterations=1000):\n",
    "    weights = np.zeros(X.shape[0])  # Adjust to match the number of features\n",
    "    mistakes = 0\n",
    "\n",
    "    for _ in range(max_iterations):\n",
    "        global_mistakes = 0\n",
    "        for i in range(len(y)):\n",
    "            # Calculate the prediction\n",
    "            prediction = np.sign(np.dot(X[i], weights))  # Update the dot product computation\n",
    "            # Update weights if prediction is wrong\n",
    "            if prediction != y[i]:\n",
    "                weights += y[i] * X[i]\n",
    "                global_mistakes += 1\n",
    "        mistakes += global_mistakes\n",
    "        # Stop if no mistakes are made\n",
    "        if global_mistakes == 0:\n",
    "            break\n",
    "\n",
    "    return (mistakes,weights)\n",
    "data =   np.array([[2, 3,  4,  5],[1,1,1,1]])\n",
    "labels = np.array([1, 1, -1, -1])\n",
    "perceptron_1(data,labels)"
   ]
  },
  {
   "cell_type": "code",
   "execution_count": null,
   "metadata": {},
   "outputs": [
    {
     "name": "stdout",
     "output_type": "stream",
     "text": [
      "d = 1, n = 4, theta shape = (1, 1), theta_0 shape = (1,)\n",
      "shape x = (1,), y = (), theta = (1, 1), theta_0 = (1,)\n"
     ]
    },
    {
     "data": {
      "text/plain": [
       "(array([[-2.]]), array([7.]))"
      ]
     },
     "execution_count": 64,
     "metadata": {},
     "output_type": "execute_result"
    }
   ],
   "source": [
    "def perceptron_3(data, labels, params = {}, hook = None):    \n",
    "    # if T not in params, default to 100\n",
    "    T = params.get('T', 100)\n",
    "    # Your implementation here\n",
    "    d, n = data.shape\n",
    "    theta = np.zeros((d,1))\n",
    "    theta_0 = np.zeros(1)\n",
    "    print(\"d = {}, n = {}, theta shape = {}, theta_0 shape = {}\".format(d,n,theta.shape,theta_0.shape))\n",
    "  \n",
    "    for t in range(T):     \n",
    "      for i in range(n):\n",
    "        y = labels[0,i]\n",
    "        x = data[:,i]\n",
    "        \n",
    "        a = np.dot(x,theta)+theta_0\n",
    "        #print(\"a = {}\".format(a))\n",
    "        positive = np.sign(y*a)\n",
    "        \n",
    "        if np.sign(y*a) <=0: # update the thetas\n",
    "          theta[:,0] = theta[:,0]+ y*x\n",
    "          theta_0 = theta_0 + y\n",
    "          \n",
    "    print(\"shape x = {}, y = {}, theta = {}, theta_0 = {}\".format(x.shape,y.shape,theta.shape,theta_0.shape))\n",
    "    return (theta,theta_0)\n",
    "data =   np.array([[2, 3,  4,  5]])\n",
    "labels = np.array([[1, 1, -1, -1]])\n",
    "perceptron_3(data,labels)"
   ]
  },
  {
   "cell_type": "code",
   "execution_count": null,
   "metadata": {},
   "outputs": [],
   "source": [
    "import numpy as np\n",
    "\n",
    "def one_hot(x, k):\n",
    "    bias = np.zeros((k,1))\n",
    "    bias[x-1] = 1\n",
    "    return bias"
   ]
  },
  {
   "cell_type": "code",
   "execution_count": 88,
   "metadata": {},
   "outputs": [
    {
     "data": {
      "text/plain": [
       "array([[0.],\n",
       "       [0.],\n",
       "       [0.],\n",
       "       [0.],\n",
       "       [1.],\n",
       "       [0.],\n",
       "       [0.]])"
      ]
     },
     "execution_count": 88,
     "metadata": {},
     "output_type": "execute_result"
    }
   ],
   "source": [
    "one_hot(5,7)"
   ]
  },
  {
   "cell_type": "code",
   "execution_count": 89,
   "metadata": {},
   "outputs": [
    {
     "ename": "ValueError",
     "evalue": "too many values to unpack (expected 2)",
     "output_type": "error",
     "traceback": [
      "\u001b[1;31m---------------------------------------------------------------------------\u001b[0m",
      "\u001b[1;31mValueError\u001b[0m                                Traceback (most recent call last)",
      "Cell \u001b[1;32mIn[89], line 28\u001b[0m\n\u001b[0;32m      1\u001b[0m data \u001b[38;5;241m=\u001b[39m np\u001b[38;5;241m.\u001b[39marray([[[\u001b[38;5;241m0.\u001b[39m],\n\u001b[0;32m      2\u001b[0m        [\u001b[38;5;241m1.\u001b[39m],\n\u001b[0;32m      3\u001b[0m        [\u001b[38;5;241m0.\u001b[39m],\n\u001b[1;32m   (...)\u001b[0m\n\u001b[0;32m     25\u001b[0m        [\u001b[38;5;241m0.\u001b[39m],\n\u001b[0;32m     26\u001b[0m        [\u001b[38;5;241m0.\u001b[39m]]])\n\u001b[0;32m     27\u001b[0m labels \u001b[38;5;241m=\u001b[39m np\u001b[38;5;241m.\u001b[39marray([[\u001b[38;5;241m1\u001b[39m, \u001b[38;5;241m1\u001b[39m, \u001b[38;5;241m-\u001b[39m\u001b[38;5;241m1\u001b[39m, \u001b[38;5;241m-\u001b[39m\u001b[38;5;241m1\u001b[39m]])  \n\u001b[1;32m---> 28\u001b[0m \u001b[43mperceptron_3\u001b[49m\u001b[43m \u001b[49m\u001b[43m(\u001b[49m\u001b[43mdata\u001b[49m\u001b[43m,\u001b[49m\u001b[43mlabels\u001b[49m\u001b[43m)\u001b[49m\n",
      "Cell \u001b[1;32mIn[64], line 5\u001b[0m, in \u001b[0;36mperceptron_3\u001b[1;34m(data, labels, params, hook)\u001b[0m\n\u001b[0;32m      3\u001b[0m T \u001b[38;5;241m=\u001b[39m params\u001b[38;5;241m.\u001b[39mget(\u001b[38;5;124m'\u001b[39m\u001b[38;5;124mT\u001b[39m\u001b[38;5;124m'\u001b[39m, \u001b[38;5;241m100\u001b[39m)\n\u001b[0;32m      4\u001b[0m \u001b[38;5;66;03m# Your implementation here\u001b[39;00m\n\u001b[1;32m----> 5\u001b[0m d, n \u001b[38;5;241m=\u001b[39m data\u001b[38;5;241m.\u001b[39mshape\n\u001b[0;32m      6\u001b[0m theta \u001b[38;5;241m=\u001b[39m np\u001b[38;5;241m.\u001b[39mzeros((d,\u001b[38;5;241m1\u001b[39m))\n\u001b[0;32m      7\u001b[0m theta_0 \u001b[38;5;241m=\u001b[39m np\u001b[38;5;241m.\u001b[39mzeros(\u001b[38;5;241m1\u001b[39m)\n",
      "\u001b[1;31mValueError\u001b[0m: too many values to unpack (expected 2)"
     ]
    }
   ],
   "source": [
    "\n",
    "data = np.array([[[0.],\n",
    "       [1.],\n",
    "       [0.],\n",
    "       [0.],\n",
    "       [0.],\n",
    "       [0.],\n",
    "       [0.]],[[0.],\n",
    "       [0.],\n",
    "       [1.],\n",
    "       [0.],\n",
    "       [0.],\n",
    "       [0.],\n",
    "       [0.]],[[0.],\n",
    "       [0.],\n",
    "       [0.],\n",
    "       [1.],\n",
    "       [0.],\n",
    "       [0.],\n",
    "       [0.]],\n",
    "       [[0.],\n",
    "       [0.],\n",
    "       [0.],\n",
    "       [0.],\n",
    "       [1.],\n",
    "       [0.],\n",
    "       [0.]]])\n",
    "labels = np.array([[1, 1, -1, -1]])  \n",
    "perceptron_3 (data,labels)"
   ]
  },
  {
   "cell_type": "code",
   "execution_count": 94,
   "metadata": {},
   "outputs": [
    {
     "data": {
      "text/plain": [
       "array([ 0.,  2.,  1., -2., -1.,  0.,  0.])"
      ]
     },
     "execution_count": 94,
     "metadata": {},
     "output_type": "execute_result"
    }
   ],
   "source": [
    "import numpy as np\n",
    "\n",
    "def perceptron_hone_hot(X, y, max_iterations=1000):\n",
    "    \"\"\"Perceptron algorithm implementation.\"\"\"\n",
    "    # Ensure X is a 2D array (samples, features)\n",
    "    if X.ndim == 3:  \n",
    "        X = X.reshape(X.shape[0], X.shape[1])  # Convert (samples, features, 1) → (samples, features)\n",
    "    \n",
    "    # Ensure y is a 1D array\n",
    "    y = y.flatten()  # Convert (1, N) → (N,)\n",
    "    \n",
    "    # Initialize weights\n",
    "    weights = np.zeros(X.shape[1])  # Number of features\n",
    "    mistakes = 0\n",
    "\n",
    "    for _ in range(max_iterations):\n",
    "        global_mistakes = 0\n",
    "        for i in range(len(y)):\n",
    "            # Compute the prediction\n",
    "            prediction = np.sign(np.dot(X[i], weights))\n",
    "            # Update weights if prediction is wrong\n",
    "            if prediction != y[i]:\n",
    "                weights += y[i] * X[i]\n",
    "                global_mistakes += 1\n",
    "        mistakes += global_mistakes\n",
    "        # Stop if no mistakes are made\n",
    "        if global_mistakes == 0:\n",
    "            break\n",
    "\n",
    "    return weights\n",
    "\n",
    "# Fix input shapes\n",
    "data = np.array([[[0.], [1.], [0.], [0.], [0.], [0.], [1.]],\n",
    "                 [[0.], [0.], [1.], [0.], [0.], [0.], [1.]],\n",
    "                 [[0.], [0.], [0.], [1.], [0.], [0.], [1.]],\n",
    "                 [[0.], [0.], [0.], [0.], [1.], [0.], [1.]]])\n",
    "\n",
    "labels = np.array([[1, 1, -1, -1]])\n",
    "\n",
    "# Run perceptron\n",
    "weights = perceptron_hone_hot(data, labels)\n",
    "weights\n"
   ]
  },
  {
   "cell_type": "code",
   "execution_count": 95,
   "metadata": {},
   "outputs": [
    {
     "data": {
      "text/plain": [
       "array([ 1.,  1., -2., -2.,  1.,  1.,  0.])"
      ]
     },
     "execution_count": 95,
     "metadata": {},
     "output_type": "execute_result"
    }
   ],
   "source": [
    "data = np.array([[[1.], [0.], [0.], [0.], [0.], [0.], [1.]],\n",
    "                 [[0.], [1.], [0.], [0.], [0.], [0.], [1.]],\n",
    "                 [[0.], [0.], [1.], [0.], [0.], [0.], [1.]],\n",
    "                 [[0.], [0.], [0.], [1.], [0.], [0.], [1.]],\n",
    "                 [[0.], [0.], [0.], [0.], [1.], [0.], [1.]],\n",
    "                 [[0.], [0.], [0.], [0.], [0.], [1.], [1.]]])\n",
    "\n",
    "labels = np.array([[1,1,-1,-1,1,1]])\n",
    "weights = perceptron_hone_hot(data, labels)\n",
    "weights"
   ]
  },
  {
   "cell_type": "code",
   "execution_count": null,
   "metadata": {},
   "outputs": [],
   "source": []
  }
 ],
 "metadata": {
  "kernelspec": {
   "display_name": "dul01",
   "language": "python",
   "name": "python3"
  },
  "language_info": {
   "codemirror_mode": {
    "name": "ipython",
    "version": 3
   },
   "file_extension": ".py",
   "mimetype": "text/x-python",
   "name": "python",
   "nbconvert_exporter": "python",
   "pygments_lexer": "ipython3",
   "version": "3.9.18"
  }
 },
 "nbformat": 4,
 "nbformat_minor": 2
}
