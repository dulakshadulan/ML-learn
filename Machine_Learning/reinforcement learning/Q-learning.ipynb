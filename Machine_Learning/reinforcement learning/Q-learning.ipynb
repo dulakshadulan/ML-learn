{
 "cells": [
  {
   "cell_type": "code",
   "execution_count": 1,
   "metadata": {},
   "outputs": [],
   "source": [
    "import numpy as np"
   ]
  },
  {
   "cell_type": "code",
   "execution_count": 11,
   "metadata": {},
   "outputs": [],
   "source": [
    "def f(x):\n",
    "    out = []\n",
    "    for i in range(x):\n",
    "        out.append(i)\n",
    "    return(out)"
   ]
  },
  {
   "cell_type": "code",
   "execution_count": 12,
   "metadata": {},
   "outputs": [
    {
     "data": {
      "text/plain": [
       "[0, 1, 2, 3, 4]"
      ]
     },
     "execution_count": 12,
     "metadata": {},
     "output_type": "execute_result"
    }
   ],
   "source": [
    "f(5)"
   ]
  },
  {
   "cell_type": "code",
   "execution_count": 13,
   "metadata": {},
   "outputs": [
    {
     "data": {
      "text/plain": [
       "[0, 1, 2, 3, 4, 5, 6, 7, 8]"
      ]
     },
     "execution_count": 13,
     "metadata": {},
     "output_type": "execute_result"
    }
   ],
   "source": [
    "f(9)"
   ]
  },
  {
   "cell_type": "code",
   "execution_count": 1,
   "metadata": {},
   "outputs": [
    {
     "name": "stdout",
     "output_type": "stream",
     "text": [
      "Q(0, 'b') ← 0.000\n",
      "Q(2, 'b') ← 0.000\n",
      "Q(3, 'b') ← 1.000\n",
      "Q(0, 'b') ← 0.000\n",
      "Q(2, 'b') ← 0.450\n",
      "Q(3, 'c') ← 1.000\n",
      "Q(0, 'c') ← 0.000\n",
      "Q(1, 'b') ← 0.500\n",
      "Q(0, 'b') ← 0.203\n",
      "Q(2, 'c') ← 0.450\n",
      "Q(3, 'c') ← 1.591\n",
      "Q(0, 'c') ← 0.225\n",
      "Q(1, 'c') ← 0.601\n",
      "Q(0, 'c') ← 0.315\n",
      "Q(2, 'b') ← 0.941\n",
      "Q(3, 'b') ← 1.642\n",
      "Q(0, 'b') ← 0.525\n",
      "Q(2, 'c') ← 0.964\n",
      "\n",
      "Final Q-table:\n",
      "State 0: {'b': 0.5247028125, 'c': 0.315}\n",
      "State 1: {'b': 0.5, 'c': 0.6012500000000001}\n",
      "State 2: {'b': 0.9410062499999999, 'c': 0.9637875}\n",
      "State 3: {'b': 1.64175, 'c': 1.591125}\n"
     ]
    }
   ],
   "source": [
    "import numpy as np\n",
    "\n",
    "# Initialize Q-table\n",
    "actions = ['b', 'c']\n",
    "states = [0, 1, 2, 3]\n",
    "Q = {s: {a: 0 for a in actions} for s in states}\n",
    "\n",
    "# Given experience tuples (s_t, a_t, r_t)\n",
    "experience = [(0, 'b', 0), (2, 'b', 0), (3, 'b', 2), (0, 'b', 0), (2, 'b', 0), (3, 'c', 2),\n",
    "              (0, 'c', 0), (1, 'b', 1), (0, 'b', 0), (2, 'c', 0), (3, 'c', 2), (0, 'c', 0),\n",
    "              (1, 'c', 1), (0, 'c', 0), (2, 'b', 0), (3, 'b', 2), (0, 'b', 0), (2, 'c', 0), (3, '', 0)]\n",
    "\n",
    "# Q-learning parameters\n",
    "alpha = 0.5  # Learning rate\n",
    "gamma = 0.9  # Discount factor\n",
    "\n",
    "# Process experience and update Q-table\n",
    "for t in range(len(experience) - 1):\n",
    "    s_t, a_t, r_t = experience[t]\n",
    "    s_t1, _, _ = experience[t + 1]  # Next state\n",
    "    \n",
    "    if a_t:  # Ensure action is valid\n",
    "        max_q_next = max(Q[s_t1].values())  # max_a' Q(s', a')\n",
    "        q_update = (1 - alpha) * Q[s_t][a_t] + alpha * (r_t + gamma * max_q_next)\n",
    "        Q[s_t][a_t] = q_update\n",
    "        \n",
    "        # Print update\n",
    "        print(f\"Q({s_t}, '{a_t}') ← {q_update:.3f}\")\n",
    "\n",
    "# Final Q-table\n",
    "print(\"\\nFinal Q-table:\")\n",
    "for s in Q:\n",
    "    print(f\"State {s}: {Q[s]}\")"
   ]
  },
  {
   "cell_type": "code",
   "execution_count": null,
   "metadata": {},
   "outputs": [
    {
     "name": "stdout",
     "output_type": "stream",
     "text": [
      "{0: {'b': 0.5247028125, 'c': 0.315}, 1: {'b': 0.5, 'c': 0.6012500000000001}, 2: {'b': 0.9410062499999999, 'c': 0.9637875}, 3: {'b': 1.64175, 'c': 1.591125}}\n"
     ]
    }
   ],
   "source": [
    "Q = {s: {a: 0 for a in actions} for s in states}"
   ]
  },
  {
   "cell_type": "code",
   "execution_count": 3,
   "metadata": {},
   "outputs": [
    {
     "name": "stdout",
     "output_type": "stream",
     "text": [
      "{0: {'b': 0, 'c': 0}, 1: {'b': 0, 'c': 0}, 2: {'b': 0, 'c': 0}, 3: {'b': 0, 'c': 0}}\n"
     ]
    }
   ],
   "source": [
    "Q = {s: {a: 0 for a in actions} for s in states}\n",
    "print(Q)"
   ]
  },
  {
   "cell_type": "code",
   "execution_count": 7,
   "metadata": {},
   "outputs": [],
   "source": [
    "states = [0,1,2,3]\n",
    "actions = ['b','c']\n",
    "gamma = 0.9\n",
    "alpha = 0.5\n",
    "\n",
    "Q = {s:{a:0 for a in actions}for s in states}\n",
    "exp = [(0, 'b', 0),(2, 'b', 0),(3, 'b', 2)]\n",
    "\n",
    "# def get_q_value(exp):\n",
    "\n",
    "\n",
    "\n"
   ]
  },
  {
   "cell_type": "code",
   "execution_count": 10,
   "metadata": {},
   "outputs": [
    {
     "name": "stdout",
     "output_type": "stream",
     "text": [
      "0\n",
      "1\n",
      "2\n"
     ]
    }
   ],
   "source": [
    "for x in range (len(exp)):\n",
    "    print(x)"
   ]
  },
  {
   "cell_type": "code",
   "execution_count": null,
   "metadata": {},
   "outputs": [],
   "source": []
  }
 ],
 "metadata": {
  "kernelspec": {
   "display_name": "dul01",
   "language": "python",
   "name": "python3"
  },
  "language_info": {
   "codemirror_mode": {
    "name": "ipython",
    "version": 3
   },
   "file_extension": ".py",
   "mimetype": "text/x-python",
   "name": "python",
   "nbconvert_exporter": "python",
   "pygments_lexer": "ipython3",
   "version": "3.9.18"
  }
 },
 "nbformat": 4,
 "nbformat_minor": 2
}
