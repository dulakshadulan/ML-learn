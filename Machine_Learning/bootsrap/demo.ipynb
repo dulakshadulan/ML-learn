{
 "cells": [
  {
   "cell_type": "code",
   "execution_count": 5,
   "metadata": {},
   "outputs": [],
   "source": [
    "import numpy as np\n",
    "import pandas as pd\n",
    "import statsmodels.api as sm\n",
    "import matplotlib.pyplot as plt\n",
    "\n",
    "# Generate random data for a linear regression\n",
    "np.random.seed(42)\n",
    "n = 100\n",
    "X = np.random.rand(n, 1) * 10  # Predictor variable\n",
    "y = 3 * X.squeeze() + np.random.normal(0, 2, n)  # Response variable with noise\n"
   ]
  },
  {
   "cell_type": "code",
   "execution_count": 6,
   "metadata": {},
   "outputs": [
    {
     "data": {
      "text/plain": [
       "numpy.ndarray"
      ]
     },
     "execution_count": 6,
     "metadata": {},
     "output_type": "execute_result"
    }
   ],
   "source": [
    "type(X)"
   ]
  },
  {
   "cell_type": "code",
   "execution_count": 7,
   "metadata": {},
   "outputs": [
    {
     "name": "stdout",
     "output_type": "stream",
     "text": [
      "[[3.74540119]\n",
      " [9.50714306]\n",
      " [7.31993942]\n",
      " [5.98658484]\n",
      " [1.5601864 ]\n",
      " [1.5599452 ]\n",
      " [0.58083612]\n",
      " [8.66176146]\n",
      " [6.01115012]\n",
      " [7.08072578]\n",
      " [0.20584494]\n",
      " [9.69909852]\n",
      " [8.32442641]\n",
      " [2.12339111]\n",
      " [1.81824967]\n",
      " [1.8340451 ]\n",
      " [3.04242243]\n",
      " [5.24756432]\n",
      " [4.31945019]\n",
      " [2.9122914 ]\n",
      " [6.11852895]\n",
      " [1.39493861]\n",
      " [2.92144649]\n",
      " [3.66361843]\n",
      " [4.56069984]\n",
      " [7.85175961]\n",
      " [1.99673782]\n",
      " [5.14234438]\n",
      " [5.92414569]\n",
      " [0.46450413]\n",
      " [6.07544852]\n",
      " [1.70524124]\n",
      " [0.65051593]\n",
      " [9.48885537]\n",
      " [9.65632033]\n",
      " [8.08397348]\n",
      " [3.04613769]\n",
      " [0.97672114]\n",
      " [6.84233027]\n",
      " [4.40152494]\n",
      " [1.22038235]\n",
      " [4.9517691 ]\n",
      " [0.34388521]\n",
      " [9.09320402]\n",
      " [2.58779982]\n",
      " [6.62522284]\n",
      " [3.11711076]\n",
      " [5.20068021]\n",
      " [5.46710279]\n",
      " [1.84854456]\n",
      " [9.69584628]\n",
      " [7.75132823]\n",
      " [9.39498942]\n",
      " [8.9482735 ]\n",
      " [5.97899979]\n",
      " [9.21874235]\n",
      " [0.88492502]\n",
      " [1.95982862]\n",
      " [0.45227289]\n",
      " [3.25330331]\n",
      " [3.8867729 ]\n",
      " [2.71349032]\n",
      " [8.28737509]\n",
      " [3.56753327]\n",
      " [2.8093451 ]\n",
      " [5.42696083]\n",
      " [1.40924225]\n",
      " [8.02196981]\n",
      " [0.74550644]\n",
      " [9.86886937]\n",
      " [7.72244769]\n",
      " [1.98715682]\n",
      " [0.05522117]\n",
      " [8.15461428]\n",
      " [7.06857344]\n",
      " [7.29007168]\n",
      " [7.71270347]\n",
      " [0.74044652]\n",
      " [3.58465729]\n",
      " [1.1586906 ]\n",
      " [8.63103426]\n",
      " [6.23298127]\n",
      " [3.30898025]\n",
      " [0.6355835 ]\n",
      " [3.10982322]\n",
      " [3.25183322]\n",
      " [7.29606178]\n",
      " [6.37557471]\n",
      " [8.87212743]\n",
      " [4.72214925]\n",
      " [1.19594246]\n",
      " [7.13244787]\n",
      " [7.60785049]\n",
      " [5.61277198]\n",
      " [7.7096718 ]\n",
      " [4.93795596]\n",
      " [5.22732829]\n",
      " [4.27541018]\n",
      " [0.25419127]\n",
      " [1.07891427]]\n"
     ]
    }
   ],
   "source": [
    "print(X)"
   ]
  },
  {
   "cell_type": "code",
   "execution_count": 9,
   "metadata": {},
   "outputs": [
    {
     "name": "stdout",
     "output_type": "stream",
     "text": [
      "[[1.         3.74540119]\n",
      " [1.         9.50714306]\n",
      " [1.         7.31993942]\n",
      " [1.         5.98658484]\n",
      " [1.         1.5601864 ]\n",
      " [1.         1.5599452 ]\n",
      " [1.         0.58083612]\n",
      " [1.         8.66176146]\n",
      " [1.         6.01115012]\n",
      " [1.         7.08072578]\n",
      " [1.         0.20584494]\n",
      " [1.         9.69909852]\n",
      " [1.         8.32442641]\n",
      " [1.         2.12339111]\n",
      " [1.         1.81824967]\n",
      " [1.         1.8340451 ]\n",
      " [1.         3.04242243]\n",
      " [1.         5.24756432]\n",
      " [1.         4.31945019]\n",
      " [1.         2.9122914 ]\n",
      " [1.         6.11852895]\n",
      " [1.         1.39493861]\n",
      " [1.         2.92144649]\n",
      " [1.         3.66361843]\n",
      " [1.         4.56069984]\n",
      " [1.         7.85175961]\n",
      " [1.         1.99673782]\n",
      " [1.         5.14234438]\n",
      " [1.         5.92414569]\n",
      " [1.         0.46450413]\n",
      " [1.         6.07544852]\n",
      " [1.         1.70524124]\n",
      " [1.         0.65051593]\n",
      " [1.         9.48885537]\n",
      " [1.         9.65632033]\n",
      " [1.         8.08397348]\n",
      " [1.         3.04613769]\n",
      " [1.         0.97672114]\n",
      " [1.         6.84233027]\n",
      " [1.         4.40152494]\n",
      " [1.         1.22038235]\n",
      " [1.         4.9517691 ]\n",
      " [1.         0.34388521]\n",
      " [1.         9.09320402]\n",
      " [1.         2.58779982]\n",
      " [1.         6.62522284]\n",
      " [1.         3.11711076]\n",
      " [1.         5.20068021]\n",
      " [1.         5.46710279]\n",
      " [1.         1.84854456]\n",
      " [1.         9.69584628]\n",
      " [1.         7.75132823]\n",
      " [1.         9.39498942]\n",
      " [1.         8.9482735 ]\n",
      " [1.         5.97899979]\n",
      " [1.         9.21874235]\n",
      " [1.         0.88492502]\n",
      " [1.         1.95982862]\n",
      " [1.         0.45227289]\n",
      " [1.         3.25330331]\n",
      " [1.         3.8867729 ]\n",
      " [1.         2.71349032]\n",
      " [1.         8.28737509]\n",
      " [1.         3.56753327]\n",
      " [1.         2.8093451 ]\n",
      " [1.         5.42696083]\n",
      " [1.         1.40924225]\n",
      " [1.         8.02196981]\n",
      " [1.         0.74550644]\n",
      " [1.         9.86886937]\n",
      " [1.         7.72244769]\n",
      " [1.         1.98715682]\n",
      " [1.         0.05522117]\n",
      " [1.         8.15461428]\n",
      " [1.         7.06857344]\n",
      " [1.         7.29007168]\n",
      " [1.         7.71270347]\n",
      " [1.         0.74044652]\n",
      " [1.         3.58465729]\n",
      " [1.         1.1586906 ]\n",
      " [1.         8.63103426]\n",
      " [1.         6.23298127]\n",
      " [1.         3.30898025]\n",
      " [1.         0.6355835 ]\n",
      " [1.         3.10982322]\n",
      " [1.         3.25183322]\n",
      " [1.         7.29606178]\n",
      " [1.         6.37557471]\n",
      " [1.         8.87212743]\n",
      " [1.         4.72214925]\n",
      " [1.         1.19594246]\n",
      " [1.         7.13244787]\n",
      " [1.         7.60785049]\n",
      " [1.         5.61277198]\n",
      " [1.         7.7096718 ]\n",
      " [1.         4.93795596]\n",
      " [1.         5.22732829]\n",
      " [1.         4.27541018]\n",
      " [1.         0.25419127]\n",
      " [1.         1.07891427]]\n"
     ]
    }
   ],
   "source": [
    "X_with_intercept = sm.add_constant(X)\n",
    "print(X_with_intercept)"
   ]
  },
  {
   "cell_type": "code",
   "execution_count": 10,
   "metadata": {},
   "outputs": [],
   "source": [
    "model = sm.OLS(y, X_with_intercept).fit()\n",
    "beta_original = model.params"
   ]
  },
  {
   "cell_type": "code",
   "execution_count": 11,
   "metadata": {},
   "outputs": [
    {
     "name": "stdout",
     "output_type": "stream",
     "text": [
      "[0.43019232 2.90804535]\n"
     ]
    }
   ],
   "source": [
    "print(beta_original)"
   ]
  },
  {
   "cell_type": "code",
   "execution_count": 13,
   "metadata": {},
   "outputs": [
    {
     "ename": "NameError",
     "evalue": "name 'n_bootstrap' is not defined",
     "output_type": "error",
     "traceback": [
      "\u001b[1;31m---------------------------------------------------------------------------\u001b[0m",
      "\u001b[1;31mNameError\u001b[0m                                 Traceback (most recent call last)",
      "Cell \u001b[1;32mIn[13], line 6\u001b[0m\n\u001b[0;32m      3\u001b[0m beta_original \u001b[38;5;241m=\u001b[39m model\u001b[38;5;241m.\u001b[39mparams\n\u001b[0;32m      5\u001b[0m \u001b[38;5;66;03m# Bootstrap\u001b[39;00m\n\u001b[1;32m----> 6\u001b[0m \u001b[38;5;28;01mfor\u001b[39;00m _ \u001b[38;5;129;01min\u001b[39;00m \u001b[38;5;28mrange\u001b[39m(\u001b[43mn_bootstrap\u001b[49m):\n\u001b[0;32m      7\u001b[0m     \u001b[38;5;66;03m# Sample data with replacement\u001b[39;00m\n\u001b[0;32m      8\u001b[0m     indices \u001b[38;5;241m=\u001b[39m np\u001b[38;5;241m.\u001b[39mrandom\u001b[38;5;241m.\u001b[39mchoice(\u001b[38;5;28mrange\u001b[39m(n), size\u001b[38;5;241m=\u001b[39mn, replace\u001b[38;5;241m=\u001b[39m\u001b[38;5;28;01mTrue\u001b[39;00m)\n\u001b[0;32m      9\u001b[0m     X_sample \u001b[38;5;241m=\u001b[39m X_with_intercept[indices]\n",
      "\u001b[1;31mNameError\u001b[0m: name 'n_bootstrap' is not defined"
     ]
    }
   ],
   "source": [
    "# Ordinary Least Squares (OLS) to find beta coefficients\n",
    "model = sm.OLS(y, X_with_intercept).fit()\n",
    "beta_original = model.params\n",
    "\n",
    "# Bootstrap\n",
    "for _ in range(n_bootstrap):\n",
    "    # Sample data with replacement\n",
    "    indices = np.random.choice(range(n), size=n, replace=True)\n",
    "    X_sample = X_with_intercept[indices]\n",
    "    y_sample = y[indices]\n",
    "    \n",
    "    # Fit OLS on the bootstrap sample\n",
    "    model_sample = sm.OLS(y_sample, X_sample).fit()\n",
    "    bootstrap_betas.append(model_sample.params)"
   ]
  },
  {
   "cell_type": "code",
   "execution_count": null,
   "metadata": {},
   "outputs": [],
   "source": []
  }
 ],
 "metadata": {
  "kernelspec": {
   "display_name": "dul01",
   "language": "python",
   "name": "python3"
  },
  "language_info": {
   "codemirror_mode": {
    "name": "ipython",
    "version": 3
   },
   "file_extension": ".py",
   "mimetype": "text/x-python",
   "name": "python",
   "nbconvert_exporter": "python",
   "pygments_lexer": "ipython3",
   "version": "3.9.18"
  }
 },
 "nbformat": 4,
 "nbformat_minor": 2
}
